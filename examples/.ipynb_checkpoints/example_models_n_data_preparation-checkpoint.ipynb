{
 "cells": [
  {
   "cell_type": "markdown",
   "metadata": {},
   "source": [
    "# 1. Example preparation of data for generator & Training of imputation/prediction models \n",
    "## 1.1. Import all needed packages"
   ]
  },
  {
   "cell_type": "code",
   "execution_count": 62,
   "metadata": {},
   "outputs": [],
   "source": [
    "import pandas as pd\n",
    "import numpy as np\n",
    "import os\n",
    "from sklearn.model_selection import train_test_split\n",
    "from sklearn.ensemble import RandomForestClassifier\n",
    "from fireman_imputation.src import utils\n",
    "from sklearn.impute import SimpleImputer\n",
    "from joblib import dump\n",
    "import itertools\n",
    "\n",
    "DATA_PATH = 'data/spam.csv'\n",
    "DATA_LABELS_PATH = 'data/spam_labels.csv'\n",
    "DATA_GEN_PATH = os.path.abspath(os.path.join('..')) + '/generator/data/spam_test.csv'\n",
    "CLF_PATH = os.path.abspath(os.path.join('..')) + '/classifier/scikit-learn_clf_model/rf.joblib'\n",
    "IMP_PATH = os.path.abspath(os.path.join('..')) + '/classifier/scikit-learn_imp_model/simple_mean.joblib'"
   ]
  },
  {
   "cell_type": "markdown",
   "metadata": {},
   "source": [
    "## 1.2. Create datasets"
   ]
  },
  {
   "cell_type": "code",
   "execution_count": 2,
   "metadata": {},
   "outputs": [],
   "source": [
    "# load the data\n",
    "data = pd.read_csv(DATA_PATH,index_col=False)\n",
    "data_labels = pd.read_csv(DATA_LABELS_PATH,index_col=False)\n",
    "data_missing, mask = utils.MCARgen(data, 0.2)\n",
    "# divide into train/test\n",
    "data_train, data_test, data_labels_train, data_labels_test, data_missing_train, data_missing_test = train_test_split(data, data_labels, data_missing, train_size=0.9)"
   ]
  },
  {
   "cell_type": "markdown",
   "metadata": {},
   "source": [
    "## 1.3. Train models"
   ]
  },
  {
   "cell_type": "code",
   "execution_count": 3,
   "metadata": {},
   "outputs": [
    {
     "data": {
      "text/plain": [
       "RandomForestClassifier()"
      ]
     },
     "execution_count": 3,
     "metadata": {},
     "output_type": "execute_result"
    }
   ],
   "source": [
    "imp_mean = SimpleImputer(missing_values=np.nan, strategy='mean')\n",
    "imp_mean.fit(data_missing_train)\n",
    "\n",
    "clf = RandomForestClassifier()\n",
    "clf.fit(data_train.values, data_labels_train.values.ravel())"
   ]
  },
  {
   "cell_type": "markdown",
   "metadata": {},
   "source": [
    "## 1.4. Save models and replace the EXPECTED_MESSAGE dict in generator/cfg.py"
   ]
  },
  {
   "cell_type": "code",
   "execution_count": 4,
   "metadata": {},
   "outputs": [
    {
     "data": {
      "text/plain": [
       "['/mnt/c/#work/FIREMAN/FIREMAN-project_frontend/classifier/scikit-learn_clf_model/rf.joblib']"
      ]
     },
     "execution_count": 4,
     "metadata": {},
     "output_type": "execute_result"
    }
   ],
   "source": [
    "data_missing_test.to_csv(DATA_GEN_PATH, index=False)\n",
    "dump(imp_mean, IMP_PATH)\n",
    "dump(clf, CLF_PATH)"
   ]
  },
  {
   "cell_type": "code",
   "execution_count": 65,
   "metadata": {},
   "outputs": [
    {
     "name": "stdout",
     "output_type": "stream",
     "text": [
      "EXPECTED_MESSAGE {'Cont_1': 'nan', 'Cont_2': 'nan', 'Cont_3': 'nan', 'Cont_4': 'nan', 'Cont_5': 'nan', 'Cont_6': 'nan', 'Cont_7': 'nan', 'Cont_8': 'nan', 'Cont_9': 'nan', 'Cont_10': 'nan', 'Cont_11': 'nan', 'Cont_12': 'nan', 'Cont_13': 'nan', 'Cont_14': 'nan', 'Cont_15': 'nan', 'Cont_16': 'nan', 'Cont_17': 'nan', 'Cont_18': 'nan', 'Cont_19': 'nan', 'Cont_20': 'nan', 'Cont_21': 'nan', 'Cont_22': 'nan', 'Cont_23': 'nan', 'Cont_24': 'nan', 'Cont_25': 'nan', 'Cont_26': 'nan', 'Cont_27': 'nan', 'Cont_28': 'nan', 'Cont_29': 'nan', 'Cont_30': 'nan', 'Cont_31': 'nan', 'Cont_32': 'nan', 'Cont_33': 'nan', 'Cont_34': 'nan', 'Cont_35': 'nan', 'Cont_36': 'nan', 'Cont_37': 'nan', 'Cont_38': 'nan', 'Cont_39': 'nan', 'Cont_40': 'nan', 'Cont_41': 'nan', 'Cont_42': 'nan', 'Cont_43': 'nan', 'Cont_44': 'nan', 'Cont_45': 'nan', 'Cont_46': 'nan', 'Cont_47': 'nan', 'Cont_48': 'nan', 'Cont_49': 'nan', 'Cont_50': 'nan', 'Cont_51': 'nan', 'Cont_52': 'nan', 'Cont_53': 'nan', 'Cont_54': 'nan', 'Cont_55': 'nan', 'Cont_56': 'nan', 'Cont_57': 'nan'}\n"
     ]
    }
   ],
   "source": [
    "EXPECTED_MESSAGE = dict(zip(data_missing_test.columns, itertools.repeat('nan')))\n",
    "print('EXPECTED_MESSAGE {}'.format(EXPECTED_MESSAGE))"
   ]
  }
 ],
 "metadata": {
  "kernelspec": {
   "display_name": "Python 3",
   "language": "python",
   "name": "python3"
  },
  "language_info": {
   "codemirror_mode": {
    "name": "ipython",
    "version": 3
   },
   "file_extension": ".py",
   "mimetype": "text/x-python",
   "name": "python",
   "nbconvert_exporter": "python",
   "pygments_lexer": "ipython3",
   "version": "3.8.5"
  }
 },
 "nbformat": 4,
 "nbformat_minor": 4
}
